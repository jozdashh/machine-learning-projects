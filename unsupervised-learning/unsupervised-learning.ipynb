{
 "cells": [
  {
   "cell_type": "code",
   "execution_count": 71,
   "metadata": {},
   "outputs": [
    {
     "data": {
      "text/html": [
       "<div>\n",
       "<style scoped>\n",
       "    .dataframe tbody tr th:only-of-type {\n",
       "        vertical-align: middle;\n",
       "    }\n",
       "\n",
       "    .dataframe tbody tr th {\n",
       "        vertical-align: top;\n",
       "    }\n",
       "\n",
       "    .dataframe thead th {\n",
       "        text-align: right;\n",
       "    }\n",
       "</style>\n",
       "<table border=\"1\" class=\"dataframe\">\n",
       "  <thead>\n",
       "    <tr style=\"text-align: right;\">\n",
       "      <th></th>\n",
       "      <th>Date</th>\n",
       "      <th>Time</th>\n",
       "      <th>Global_active_power</th>\n",
       "      <th>Global_reactive_power</th>\n",
       "      <th>Voltage</th>\n",
       "      <th>Global_intensity</th>\n",
       "      <th>Sub_metering_1</th>\n",
       "      <th>Sub_metering_2</th>\n",
       "      <th>Sub_metering_3</th>\n",
       "    </tr>\n",
       "  </thead>\n",
       "  <tbody>\n",
       "    <tr>\n",
       "      <th>0</th>\n",
       "      <td>16/12/2006</td>\n",
       "      <td>17:24:00</td>\n",
       "      <td>4.216</td>\n",
       "      <td>0.418</td>\n",
       "      <td>234.84</td>\n",
       "      <td>18.4</td>\n",
       "      <td>0.0</td>\n",
       "      <td>1.0</td>\n",
       "      <td>17.0</td>\n",
       "    </tr>\n",
       "    <tr>\n",
       "      <th>1</th>\n",
       "      <td>16/12/2006</td>\n",
       "      <td>17:25:00</td>\n",
       "      <td>5.360</td>\n",
       "      <td>0.436</td>\n",
       "      <td>233.63</td>\n",
       "      <td>23.0</td>\n",
       "      <td>0.0</td>\n",
       "      <td>1.0</td>\n",
       "      <td>16.0</td>\n",
       "    </tr>\n",
       "    <tr>\n",
       "      <th>2</th>\n",
       "      <td>16/12/2006</td>\n",
       "      <td>17:26:00</td>\n",
       "      <td>5.374</td>\n",
       "      <td>0.498</td>\n",
       "      <td>233.29</td>\n",
       "      <td>23.0</td>\n",
       "      <td>0.0</td>\n",
       "      <td>2.0</td>\n",
       "      <td>17.0</td>\n",
       "    </tr>\n",
       "    <tr>\n",
       "      <th>3</th>\n",
       "      <td>16/12/2006</td>\n",
       "      <td>17:27:00</td>\n",
       "      <td>5.388</td>\n",
       "      <td>0.502</td>\n",
       "      <td>233.74</td>\n",
       "      <td>23.0</td>\n",
       "      <td>0.0</td>\n",
       "      <td>1.0</td>\n",
       "      <td>17.0</td>\n",
       "    </tr>\n",
       "    <tr>\n",
       "      <th>4</th>\n",
       "      <td>16/12/2006</td>\n",
       "      <td>17:28:00</td>\n",
       "      <td>3.666</td>\n",
       "      <td>0.528</td>\n",
       "      <td>235.68</td>\n",
       "      <td>15.8</td>\n",
       "      <td>0.0</td>\n",
       "      <td>1.0</td>\n",
       "      <td>17.0</td>\n",
       "    </tr>\n",
       "    <tr>\n",
       "      <th>...</th>\n",
       "      <td>...</td>\n",
       "      <td>...</td>\n",
       "      <td>...</td>\n",
       "      <td>...</td>\n",
       "      <td>...</td>\n",
       "      <td>...</td>\n",
       "      <td>...</td>\n",
       "      <td>...</td>\n",
       "      <td>...</td>\n",
       "    </tr>\n",
       "    <tr>\n",
       "      <th>2075254</th>\n",
       "      <td>26/11/2010</td>\n",
       "      <td>20:58:00</td>\n",
       "      <td>0.946</td>\n",
       "      <td>0.000</td>\n",
       "      <td>240.43</td>\n",
       "      <td>4.0</td>\n",
       "      <td>0.0</td>\n",
       "      <td>0.0</td>\n",
       "      <td>0.0</td>\n",
       "    </tr>\n",
       "    <tr>\n",
       "      <th>2075255</th>\n",
       "      <td>26/11/2010</td>\n",
       "      <td>20:59:00</td>\n",
       "      <td>0.944</td>\n",
       "      <td>0.000</td>\n",
       "      <td>240.00</td>\n",
       "      <td>4.0</td>\n",
       "      <td>0.0</td>\n",
       "      <td>0.0</td>\n",
       "      <td>0.0</td>\n",
       "    </tr>\n",
       "    <tr>\n",
       "      <th>2075256</th>\n",
       "      <td>26/11/2010</td>\n",
       "      <td>21:00:00</td>\n",
       "      <td>0.938</td>\n",
       "      <td>0.000</td>\n",
       "      <td>239.82</td>\n",
       "      <td>3.8</td>\n",
       "      <td>0.0</td>\n",
       "      <td>0.0</td>\n",
       "      <td>0.0</td>\n",
       "    </tr>\n",
       "    <tr>\n",
       "      <th>2075257</th>\n",
       "      <td>26/11/2010</td>\n",
       "      <td>21:01:00</td>\n",
       "      <td>0.934</td>\n",
       "      <td>0.000</td>\n",
       "      <td>239.70</td>\n",
       "      <td>3.8</td>\n",
       "      <td>0.0</td>\n",
       "      <td>0.0</td>\n",
       "      <td>0.0</td>\n",
       "    </tr>\n",
       "    <tr>\n",
       "      <th>2075258</th>\n",
       "      <td>26/11/2010</td>\n",
       "      <td>21:02:00</td>\n",
       "      <td>0.932</td>\n",
       "      <td>0.000</td>\n",
       "      <td>239.55</td>\n",
       "      <td>3.8</td>\n",
       "      <td>0.0</td>\n",
       "      <td>0.0</td>\n",
       "      <td>0.0</td>\n",
       "    </tr>\n",
       "  </tbody>\n",
       "</table>\n",
       "<p>2075259 rows × 9 columns</p>\n",
       "</div>"
      ],
      "text/plain": [
       "               Date      Time  Global_active_power  Global_reactive_power  \\\n",
       "0        16/12/2006  17:24:00                4.216                  0.418   \n",
       "1        16/12/2006  17:25:00                5.360                  0.436   \n",
       "2        16/12/2006  17:26:00                5.374                  0.498   \n",
       "3        16/12/2006  17:27:00                5.388                  0.502   \n",
       "4        16/12/2006  17:28:00                3.666                  0.528   \n",
       "...             ...       ...                  ...                    ...   \n",
       "2075254  26/11/2010  20:58:00                0.946                  0.000   \n",
       "2075255  26/11/2010  20:59:00                0.944                  0.000   \n",
       "2075256  26/11/2010  21:00:00                0.938                  0.000   \n",
       "2075257  26/11/2010  21:01:00                0.934                  0.000   \n",
       "2075258  26/11/2010  21:02:00                0.932                  0.000   \n",
       "\n",
       "         Voltage  Global_intensity  Sub_metering_1  Sub_metering_2  \\\n",
       "0         234.84              18.4             0.0             1.0   \n",
       "1         233.63              23.0             0.0             1.0   \n",
       "2         233.29              23.0             0.0             2.0   \n",
       "3         233.74              23.0             0.0             1.0   \n",
       "4         235.68              15.8             0.0             1.0   \n",
       "...          ...               ...             ...             ...   \n",
       "2075254   240.43               4.0             0.0             0.0   \n",
       "2075255   240.00               4.0             0.0             0.0   \n",
       "2075256   239.82               3.8             0.0             0.0   \n",
       "2075257   239.70               3.8             0.0             0.0   \n",
       "2075258   239.55               3.8             0.0             0.0   \n",
       "\n",
       "         Sub_metering_3  \n",
       "0                  17.0  \n",
       "1                  16.0  \n",
       "2                  17.0  \n",
       "3                  17.0  \n",
       "4                  17.0  \n",
       "...                 ...  \n",
       "2075254             0.0  \n",
       "2075255             0.0  \n",
       "2075256             0.0  \n",
       "2075257             0.0  \n",
       "2075258             0.0  \n",
       "\n",
       "[2075259 rows x 9 columns]"
      ]
     },
     "execution_count": 71,
     "metadata": {},
     "output_type": "execute_result"
    }
   ],
   "source": [
    "import numpy as np\n",
    "import pandas as pd\n",
    "import sklearn as sk\n",
    "import seaborn as sns\n",
    "import matplotlib.pyplot as plt\n",
    "\n",
    "from sklearn import preprocessing\n",
    "from sklearn.model_selection import train_test_split\n",
    "\n",
    "data = pd.read_csv('household_power_consumption.txt', sep=\";\", header=None, na_values=\"?\", skiprows=1)\n",
    "\n",
    "data.columns = ['Date','Time','Global_active_power','Global_reactive_power','Voltage','Global_intensity',\n",
    "                'Sub_metering_1','Sub_metering_2','Sub_metering_3']\n",
    "data"
   ]
  },
  {
   "cell_type": "code",
   "execution_count": 72,
   "metadata": {},
   "outputs": [
    {
     "data": {
      "text/plain": [
       "Date                      object\n",
       "Time                      object\n",
       "Global_active_power      float64\n",
       "Global_reactive_power    float64\n",
       "Voltage                  float64\n",
       "Global_intensity         float64\n",
       "Sub_metering_1           float64\n",
       "Sub_metering_2           float64\n",
       "Sub_metering_3           float64\n",
       "dtype: object"
      ]
     },
     "execution_count": 72,
     "metadata": {},
     "output_type": "execute_result"
    }
   ],
   "source": [
    "# Tipo de los atributos\n",
    "data.dtypes"
   ]
  },
  {
   "cell_type": "code",
   "execution_count": 73,
   "metadata": {},
   "outputs": [
    {
     "data": {
      "text/html": [
       "<div>\n",
       "<style scoped>\n",
       "    .dataframe tbody tr th:only-of-type {\n",
       "        vertical-align: middle;\n",
       "    }\n",
       "\n",
       "    .dataframe tbody tr th {\n",
       "        vertical-align: top;\n",
       "    }\n",
       "\n",
       "    .dataframe thead th {\n",
       "        text-align: right;\n",
       "    }\n",
       "</style>\n",
       "<table border=\"1\" class=\"dataframe\">\n",
       "  <thead>\n",
       "    <tr style=\"text-align: right;\">\n",
       "      <th></th>\n",
       "      <th>Global_active_power</th>\n",
       "      <th>Global_reactive_power</th>\n",
       "      <th>Voltage</th>\n",
       "      <th>Global_intensity</th>\n",
       "      <th>Sub_metering_1</th>\n",
       "      <th>Sub_metering_2</th>\n",
       "      <th>Sub_metering_3</th>\n",
       "    </tr>\n",
       "  </thead>\n",
       "  <tbody>\n",
       "    <tr>\n",
       "      <th>count</th>\n",
       "      <td>2.049280e+06</td>\n",
       "      <td>2.049280e+06</td>\n",
       "      <td>2.049280e+06</td>\n",
       "      <td>2.049280e+06</td>\n",
       "      <td>2.049280e+06</td>\n",
       "      <td>2.049280e+06</td>\n",
       "      <td>2.049280e+06</td>\n",
       "    </tr>\n",
       "    <tr>\n",
       "      <th>mean</th>\n",
       "      <td>1.091615e+00</td>\n",
       "      <td>1.237145e-01</td>\n",
       "      <td>2.408399e+02</td>\n",
       "      <td>4.627759e+00</td>\n",
       "      <td>1.121923e+00</td>\n",
       "      <td>1.298520e+00</td>\n",
       "      <td>6.458447e+00</td>\n",
       "    </tr>\n",
       "    <tr>\n",
       "      <th>std</th>\n",
       "      <td>1.057294e+00</td>\n",
       "      <td>1.127220e-01</td>\n",
       "      <td>3.239987e+00</td>\n",
       "      <td>4.444396e+00</td>\n",
       "      <td>6.153031e+00</td>\n",
       "      <td>5.822026e+00</td>\n",
       "      <td>8.437154e+00</td>\n",
       "    </tr>\n",
       "    <tr>\n",
       "      <th>min</th>\n",
       "      <td>7.600000e-02</td>\n",
       "      <td>0.000000e+00</td>\n",
       "      <td>2.232000e+02</td>\n",
       "      <td>2.000000e-01</td>\n",
       "      <td>0.000000e+00</td>\n",
       "      <td>0.000000e+00</td>\n",
       "      <td>0.000000e+00</td>\n",
       "    </tr>\n",
       "    <tr>\n",
       "      <th>25%</th>\n",
       "      <td>3.080000e-01</td>\n",
       "      <td>4.800000e-02</td>\n",
       "      <td>2.389900e+02</td>\n",
       "      <td>1.400000e+00</td>\n",
       "      <td>0.000000e+00</td>\n",
       "      <td>0.000000e+00</td>\n",
       "      <td>0.000000e+00</td>\n",
       "    </tr>\n",
       "    <tr>\n",
       "      <th>50%</th>\n",
       "      <td>6.020000e-01</td>\n",
       "      <td>1.000000e-01</td>\n",
       "      <td>2.410100e+02</td>\n",
       "      <td>2.600000e+00</td>\n",
       "      <td>0.000000e+00</td>\n",
       "      <td>0.000000e+00</td>\n",
       "      <td>1.000000e+00</td>\n",
       "    </tr>\n",
       "    <tr>\n",
       "      <th>75%</th>\n",
       "      <td>1.528000e+00</td>\n",
       "      <td>1.940000e-01</td>\n",
       "      <td>2.428900e+02</td>\n",
       "      <td>6.400000e+00</td>\n",
       "      <td>0.000000e+00</td>\n",
       "      <td>1.000000e+00</td>\n",
       "      <td>1.700000e+01</td>\n",
       "    </tr>\n",
       "    <tr>\n",
       "      <th>max</th>\n",
       "      <td>1.112200e+01</td>\n",
       "      <td>1.390000e+00</td>\n",
       "      <td>2.541500e+02</td>\n",
       "      <td>4.840000e+01</td>\n",
       "      <td>8.800000e+01</td>\n",
       "      <td>8.000000e+01</td>\n",
       "      <td>3.100000e+01</td>\n",
       "    </tr>\n",
       "  </tbody>\n",
       "</table>\n",
       "</div>"
      ],
      "text/plain": [
       "       Global_active_power  Global_reactive_power       Voltage  \\\n",
       "count         2.049280e+06           2.049280e+06  2.049280e+06   \n",
       "mean          1.091615e+00           1.237145e-01  2.408399e+02   \n",
       "std           1.057294e+00           1.127220e-01  3.239987e+00   \n",
       "min           7.600000e-02           0.000000e+00  2.232000e+02   \n",
       "25%           3.080000e-01           4.800000e-02  2.389900e+02   \n",
       "50%           6.020000e-01           1.000000e-01  2.410100e+02   \n",
       "75%           1.528000e+00           1.940000e-01  2.428900e+02   \n",
       "max           1.112200e+01           1.390000e+00  2.541500e+02   \n",
       "\n",
       "       Global_intensity  Sub_metering_1  Sub_metering_2  Sub_metering_3  \n",
       "count      2.049280e+06    2.049280e+06    2.049280e+06    2.049280e+06  \n",
       "mean       4.627759e+00    1.121923e+00    1.298520e+00    6.458447e+00  \n",
       "std        4.444396e+00    6.153031e+00    5.822026e+00    8.437154e+00  \n",
       "min        2.000000e-01    0.000000e+00    0.000000e+00    0.000000e+00  \n",
       "25%        1.400000e+00    0.000000e+00    0.000000e+00    0.000000e+00  \n",
       "50%        2.600000e+00    0.000000e+00    0.000000e+00    1.000000e+00  \n",
       "75%        6.400000e+00    0.000000e+00    1.000000e+00    1.700000e+01  \n",
       "max        4.840000e+01    8.800000e+01    8.000000e+01    3.100000e+01  "
      ]
     },
     "execution_count": 73,
     "metadata": {},
     "output_type": "execute_result"
    }
   ],
   "source": [
    "# Medidas de centralidad para atributos numéricos\n",
    "data.describe()"
   ]
  },
  {
   "cell_type": "code",
   "execution_count": 74,
   "metadata": {},
   "outputs": [
    {
     "data": {
      "text/html": [
       "<div>\n",
       "<style scoped>\n",
       "    .dataframe tbody tr th:only-of-type {\n",
       "        vertical-align: middle;\n",
       "    }\n",
       "\n",
       "    .dataframe tbody tr th {\n",
       "        vertical-align: top;\n",
       "    }\n",
       "\n",
       "    .dataframe thead th {\n",
       "        text-align: right;\n",
       "    }\n",
       "</style>\n",
       "<table border=\"1\" class=\"dataframe\">\n",
       "  <thead>\n",
       "    <tr style=\"text-align: right;\">\n",
       "      <th></th>\n",
       "      <th>Date</th>\n",
       "      <th>Time</th>\n",
       "      <th>Global_active_power</th>\n",
       "      <th>Global_reactive_power</th>\n",
       "      <th>Voltage</th>\n",
       "      <th>Global_intensity</th>\n",
       "      <th>Sub_metering_1</th>\n",
       "      <th>Sub_metering_2</th>\n",
       "      <th>Sub_metering_3</th>\n",
       "    </tr>\n",
       "  </thead>\n",
       "  <tbody>\n",
       "    <tr>\n",
       "      <th>0</th>\n",
       "      <td>1/1/2007</td>\n",
       "      <td>17:24:00</td>\n",
       "      <td>0.218</td>\n",
       "      <td>0.0</td>\n",
       "      <td>241.18</td>\n",
       "      <td>1.0</td>\n",
       "      <td>0.0</td>\n",
       "      <td>0.0</td>\n",
       "      <td>0.0</td>\n",
       "    </tr>\n",
       "    <tr>\n",
       "      <th>1</th>\n",
       "      <td>1/1/2008</td>\n",
       "      <td>17:25:00</td>\n",
       "      <td>NaN</td>\n",
       "      <td>NaN</td>\n",
       "      <td>NaN</td>\n",
       "      <td>NaN</td>\n",
       "      <td>NaN</td>\n",
       "      <td>NaN</td>\n",
       "      <td>NaN</td>\n",
       "    </tr>\n",
       "    <tr>\n",
       "      <th>2</th>\n",
       "      <td>1/1/2009</td>\n",
       "      <td>17:26:00</td>\n",
       "      <td>NaN</td>\n",
       "      <td>NaN</td>\n",
       "      <td>NaN</td>\n",
       "      <td>NaN</td>\n",
       "      <td>NaN</td>\n",
       "      <td>NaN</td>\n",
       "      <td>NaN</td>\n",
       "    </tr>\n",
       "    <tr>\n",
       "      <th>3</th>\n",
       "      <td>1/1/2010</td>\n",
       "      <td>17:27:00</td>\n",
       "      <td>NaN</td>\n",
       "      <td>NaN</td>\n",
       "      <td>NaN</td>\n",
       "      <td>NaN</td>\n",
       "      <td>NaN</td>\n",
       "      <td>NaN</td>\n",
       "      <td>NaN</td>\n",
       "    </tr>\n",
       "    <tr>\n",
       "      <th>4</th>\n",
       "      <td>1/10/2007</td>\n",
       "      <td>17:28:00</td>\n",
       "      <td>NaN</td>\n",
       "      <td>NaN</td>\n",
       "      <td>NaN</td>\n",
       "      <td>NaN</td>\n",
       "      <td>NaN</td>\n",
       "      <td>NaN</td>\n",
       "      <td>NaN</td>\n",
       "    </tr>\n",
       "    <tr>\n",
       "      <th>...</th>\n",
       "      <td>...</td>\n",
       "      <td>...</td>\n",
       "      <td>...</td>\n",
       "      <td>...</td>\n",
       "      <td>...</td>\n",
       "      <td>...</td>\n",
       "      <td>...</td>\n",
       "      <td>...</td>\n",
       "      <td>...</td>\n",
       "    </tr>\n",
       "    <tr>\n",
       "      <th>1435</th>\n",
       "      <td>9/8/2010</td>\n",
       "      <td>NaN</td>\n",
       "      <td>NaN</td>\n",
       "      <td>NaN</td>\n",
       "      <td>NaN</td>\n",
       "      <td>NaN</td>\n",
       "      <td>NaN</td>\n",
       "      <td>NaN</td>\n",
       "      <td>NaN</td>\n",
       "    </tr>\n",
       "    <tr>\n",
       "      <th>1436</th>\n",
       "      <td>9/9/2007</td>\n",
       "      <td>NaN</td>\n",
       "      <td>NaN</td>\n",
       "      <td>NaN</td>\n",
       "      <td>NaN</td>\n",
       "      <td>NaN</td>\n",
       "      <td>NaN</td>\n",
       "      <td>NaN</td>\n",
       "      <td>NaN</td>\n",
       "    </tr>\n",
       "    <tr>\n",
       "      <th>1437</th>\n",
       "      <td>9/9/2008</td>\n",
       "      <td>NaN</td>\n",
       "      <td>NaN</td>\n",
       "      <td>NaN</td>\n",
       "      <td>NaN</td>\n",
       "      <td>NaN</td>\n",
       "      <td>NaN</td>\n",
       "      <td>NaN</td>\n",
       "      <td>NaN</td>\n",
       "    </tr>\n",
       "    <tr>\n",
       "      <th>1438</th>\n",
       "      <td>9/9/2009</td>\n",
       "      <td>NaN</td>\n",
       "      <td>NaN</td>\n",
       "      <td>NaN</td>\n",
       "      <td>NaN</td>\n",
       "      <td>NaN</td>\n",
       "      <td>NaN</td>\n",
       "      <td>NaN</td>\n",
       "      <td>NaN</td>\n",
       "    </tr>\n",
       "    <tr>\n",
       "      <th>1439</th>\n",
       "      <td>9/9/2010</td>\n",
       "      <td>NaN</td>\n",
       "      <td>NaN</td>\n",
       "      <td>NaN</td>\n",
       "      <td>NaN</td>\n",
       "      <td>NaN</td>\n",
       "      <td>NaN</td>\n",
       "      <td>NaN</td>\n",
       "      <td>NaN</td>\n",
       "    </tr>\n",
       "  </tbody>\n",
       "</table>\n",
       "<p>1440 rows × 9 columns</p>\n",
       "</div>"
      ],
      "text/plain": [
       "           Date      Time  Global_active_power  Global_reactive_power  \\\n",
       "0      1/1/2007  17:24:00                0.218                    0.0   \n",
       "1      1/1/2008  17:25:00                  NaN                    NaN   \n",
       "2      1/1/2009  17:26:00                  NaN                    NaN   \n",
       "3      1/1/2010  17:27:00                  NaN                    NaN   \n",
       "4     1/10/2007  17:28:00                  NaN                    NaN   \n",
       "...         ...       ...                  ...                    ...   \n",
       "1435   9/8/2010       NaN                  NaN                    NaN   \n",
       "1436   9/9/2007       NaN                  NaN                    NaN   \n",
       "1437   9/9/2008       NaN                  NaN                    NaN   \n",
       "1438   9/9/2009       NaN                  NaN                    NaN   \n",
       "1439   9/9/2010       NaN                  NaN                    NaN   \n",
       "\n",
       "      Voltage  Global_intensity  Sub_metering_1  Sub_metering_2  \\\n",
       "0      241.18               1.0             0.0             0.0   \n",
       "1         NaN               NaN             NaN             NaN   \n",
       "2         NaN               NaN             NaN             NaN   \n",
       "3         NaN               NaN             NaN             NaN   \n",
       "4         NaN               NaN             NaN             NaN   \n",
       "...       ...               ...             ...             ...   \n",
       "1435      NaN               NaN             NaN             NaN   \n",
       "1436      NaN               NaN             NaN             NaN   \n",
       "1437      NaN               NaN             NaN             NaN   \n",
       "1438      NaN               NaN             NaN             NaN   \n",
       "1439      NaN               NaN             NaN             NaN   \n",
       "\n",
       "      Sub_metering_3  \n",
       "0                0.0  \n",
       "1                NaN  \n",
       "2                NaN  \n",
       "3                NaN  \n",
       "4                NaN  \n",
       "...              ...  \n",
       "1435             NaN  \n",
       "1436             NaN  \n",
       "1437             NaN  \n",
       "1438             NaN  \n",
       "1439             NaN  \n",
       "\n",
       "[1440 rows x 9 columns]"
      ]
     },
     "execution_count": 74,
     "metadata": {},
     "output_type": "execute_result"
    }
   ],
   "source": [
    "data.mode()"
   ]
  },
  {
   "cell_type": "code",
   "execution_count": 75,
   "metadata": {},
   "outputs": [
    {
     "data": {
      "text/plain": [
       "<matplotlib.axes._subplots.AxesSubplot at 0x7f7e3f8bc048>"
      ]
     },
     "execution_count": 75,
     "metadata": {},
     "output_type": "execute_result"
    },
    {
     "data": {
      "image/png": "[encoded data removed]",
      "text/plain": [
       "<Figure size 432x288 with 2 Axes>"
      ]
     },
     "metadata": {
      "needs_background": "light"
     },
     "output_type": "display_data"
    }
   ],
   "source": [
    "# Correlación entre los datos\n",
    "sns.heatmap(data.corr(), square=True, annot=True)"
   ]
  },
  {
   "cell_type": "code",
   "execution_count": 76,
   "metadata": {},
   "outputs": [
    {
     "data": {
      "text/plain": [
       "{'whiskers': [<matplotlib.lines.Line2D at 0x7f7e3f3bb828>,\n",
       "  <matplotlib.lines.Line2D at 0x7f7e3f3bbbe0>],\n",
       " 'caps': [<matplotlib.lines.Line2D at 0x7f7e3f3bbf28>,\n",
       "  <matplotlib.lines.Line2D at 0x7f7e3f3c72b0>],\n",
       " 'boxes': [<matplotlib.lines.Line2D at 0x7f7e3f3bb518>],\n",
       " 'medians': [<matplotlib.lines.Line2D at 0x7f7e3f3c75f8>],\n",
       " 'fliers': [<matplotlib.lines.Line2D at 0x7f7e3f3c7940>],\n",
       " 'means': []}"
      ]
     },
     "execution_count": 76,
     "metadata": {},
     "output_type": "execute_result"
    },
    {
     "data": {
      "image/png": "[encoded data removed]",
      "text/plain": [
       "<Figure size 432x288 with 1 Axes>"
      ]
     },
     "metadata": {
      "needs_background": "light"
     },
     "output_type": "display_data"
    },
    {
     "data": {
      "image/png": "[encoded data removed]",
      "text/plain": [
       "<Figure size 432x288 with 1 Axes>"
      ]
     },
     "metadata": {
      "needs_background": "light"
     },
     "output_type": "display_data"
    },
    {
     "data": {
      "image/png": "[encoded data removed]",
      "text/plain": [
       "<Figure size 432x288 with 1 Axes>"
      ]
     },
     "metadata": {
      "needs_background": "light"
     },
     "output_type": "display_data"
    },
    {
     "data": {
      "image/png": "[encoded data removed]",
      "text/plain": [
       "<Figure size 432x288 with 1 Axes>"
      ]
     },
     "metadata": {
      "needs_background": "light"
     },
     "output_type": "display_data"
    },
    {
     "data": {
      "image/png": "[encoded data removed]",
      "text/plain": [
       "<Figure size 432x288 with 1 Axes>"
      ]
     },
     "metadata": {
      "needs_background": "light"
     },
     "output_type": "display_data"
    },
    {
     "data": {
      "image/png": "[encoded data removed]",
      "text/plain": [
       "<Figure size 432x288 with 1 Axes>"
      ]
     },
     "metadata": {
      "needs_background": "light"
     },
     "output_type": "display_data"
    },
    {
     "data": {
      "image/png": "[encoded data removed]",
      "text/plain": [
       "<Figure size 432x288 with 1 Axes>"
      ]
     },
     "metadata": {
      "needs_background": "light"
     },
     "output_type": "display_data"
    }
   ],
   "source": [
    "# Existen datos atípicos?\n",
    "\n",
    "fig1, bp1 = plt.subplots()\n",
    "bp1.set_title('Global_active_power')\n",
    "bp1.boxplot(data['Global_active_power'].dropna())\n",
    "\n",
    "fig1, bp1 = plt.subplots()\n",
    "bp1.set_title('Global_reactive_power')\n",
    "bp1.boxplot(data['Global_reactive_power'].dropna())\n",
    "\n",
    "fig1, bp1 = plt.subplots()\n",
    "bp1.set_title('Voltage')\n",
    "bp1.boxplot(data['Voltage'].dropna())\n",
    "\n",
    "fig1, bp1 = plt.subplots()\n",
    "bp1.set_title('Global_intensity')\n",
    "bp1.boxplot(data['Global_intensity'].dropna())\n",
    "\n",
    "fig1, bp1 = plt.subplots()\n",
    "bp1.set_title('Sub_metering_1')\n",
    "bp1.boxplot(data['Sub_metering_1'].dropna())\n",
    "\n",
    "fig1, bp1 = plt.subplots()\n",
    "bp1.set_title('Sub_metering_2')\n",
    "bp1.boxplot(data['Sub_metering_2'].dropna())\n",
    "\n",
    "fig1, bp1 = plt.subplots()\n",
    "bp1.set_title('Sub_metering_3')\n",
    "bp1.boxplot(data['Sub_metering_3'].dropna())"
   ]
  },
  {
   "cell_type": "code",
   "execution_count": 77,
   "metadata": {},
   "outputs": [
    {
     "data": {
      "text/plain": [
       "Date                         0\n",
       "Time                         0\n",
       "Global_active_power      25979\n",
       "Global_reactive_power    25979\n",
       "Voltage                  25979\n",
       "Global_intensity         25979\n",
       "Sub_metering_1           25979\n",
       "Sub_metering_2           25979\n",
       "Sub_metering_3           25979\n",
       "dtype: int64"
      ]
     },
     "execution_count": 77,
     "metadata": {},
     "output_type": "execute_result"
    }
   ],
   "source": [
    "# Registros faltantes por cada atributo\n",
    "data.isnull().sum()"
   ]
  },
  {
   "cell_type": "code",
   "execution_count": 78,
   "metadata": {},
   "outputs": [
    {
     "data": {
      "text/plain": [
       "7"
      ]
     },
     "execution_count": 78,
     "metadata": {},
     "output_type": "execute_result"
    }
   ],
   "source": [
    "# Cantidad máxima de atributos faltantes en un mismo registro\n",
    "max(data.isnull().sum(axis=1))"
   ]
  },
  {
   "cell_type": "code",
   "execution_count": 79,
   "metadata": {},
   "outputs": [
    {
     "data": {
      "text/plain": [
       "25979"
      ]
     },
     "execution_count": 79,
     "metadata": {},
     "output_type": "execute_result"
    }
   ],
   "source": [
    "# Cantidad de registros que tienen 7 atributos faltantes\n",
    "data.isna().sum(axis=1)[data.isna().sum(axis=1) == 7].size"
   ]
  },
  {
   "cell_type": "markdown",
   "metadata": {},
   "source": [
    "### Plan para ajustar los datos\n",
    "1. Eliminar los 25979 registros que tienen los 7 atributos faltantes.\n",
    "2. Concatenar las columnas 'Date' y 'Time' en 'DateTime'\n",
    "3. Transformar los atributo 'DateTime' al dtype datetime.\n",
    "4. Eliminar los atributos 'Date' y 'Time'.\n",
    "5. Extraer la información numérica de cada fecha y hora (año, mes, día de la semana, hora, etc) y asignar cada una a una columna nueva para cada registro.\n",
    "6. Eliminar columna 'DateTime'."
   ]
  },
  {
   "cell_type": "code",
   "execution_count": 80,
   "metadata": {},
   "outputs": [],
   "source": [
    "# 1. Eliminar los 25979 registros que tienen los 7 atributos faltantes.\n",
    "data = data.dropna()"
   ]
  },
  {
   "cell_type": "code",
   "execution_count": 81,
   "metadata": {},
   "outputs": [
    {
     "name": "stderr",
     "output_type": "stream",
     "text": [
      "/home/jozdashh/.local/lib/python3.6/site-packages/ipykernel_launcher.py:2: SettingWithCopyWarning: \n",
      "A value is trying to be set on a copy of a slice from a DataFrame.\n",
      "Try using .loc[row_indexer,col_indexer] = value instead\n",
      "\n",
      "See the caveats in the documentation: https://pandas.pydata.org/pandas-docs/stable/user_guide/indexing.html#returning-a-view-versus-a-copy\n",
      "  \n"
     ]
    }
   ],
   "source": [
    "# 2. Concatenar las columnas 'Date' y 'Time' en 'DateTime'\n",
    "data['DateTime'] = data[['Date', 'Time']].agg('-'.join, axis=1)"
   ]
  },
  {
   "cell_type": "code",
   "execution_count": 82,
   "metadata": {},
   "outputs": [
    {
     "name": "stderr",
     "output_type": "stream",
     "text": [
      "/home/jozdashh/.local/lib/python3.6/site-packages/ipykernel_launcher.py:2: SettingWithCopyWarning: \n",
      "A value is trying to be set on a copy of a slice from a DataFrame.\n",
      "Try using .loc[row_indexer,col_indexer] = value instead\n",
      "\n",
      "See the caveats in the documentation: https://pandas.pydata.org/pandas-docs/stable/user_guide/indexing.html#returning-a-view-versus-a-copy\n",
      "  \n"
     ]
    }
   ],
   "source": [
    "# 3. Transformar los atributo 'DateTime' al dtype datetime.\n",
    "data['DateTime'] = pd.to_datetime(data['DateTime'], format='%d/%m/%Y-%H:%M:%S')"
   ]
  },
  {
   "cell_type": "code",
   "execution_count": 83,
   "metadata": {},
   "outputs": [
    {
     "data": {
      "text/html": [
       "<div>\n",
       "<style scoped>\n",
       "    .dataframe tbody tr th:only-of-type {\n",
       "        vertical-align: middle;\n",
       "    }\n",
       "\n",
       "    .dataframe tbody tr th {\n",
       "        vertical-align: top;\n",
       "    }\n",
       "\n",
       "    .dataframe thead th {\n",
       "        text-align: right;\n",
       "    }\n",
       "</style>\n",
       "<table border=\"1\" class=\"dataframe\">\n",
       "  <thead>\n",
       "    <tr style=\"text-align: right;\">\n",
       "      <th></th>\n",
       "      <th>Date</th>\n",
       "      <th>Time</th>\n",
       "      <th>Global_active_power</th>\n",
       "      <th>Global_reactive_power</th>\n",
       "      <th>Voltage</th>\n",
       "      <th>Global_intensity</th>\n",
       "      <th>Sub_metering_1</th>\n",
       "      <th>Sub_metering_2</th>\n",
       "      <th>Sub_metering_3</th>\n",
       "      <th>DateTime</th>\n",
       "    </tr>\n",
       "  </thead>\n",
       "  <tbody>\n",
       "    <tr>\n",
       "      <th>0</th>\n",
       "      <td>16/12/2006</td>\n",
       "      <td>17:24:00</td>\n",
       "      <td>4.216</td>\n",
       "      <td>0.418</td>\n",
       "      <td>234.84</td>\n",
       "      <td>18.4</td>\n",
       "      <td>0.0</td>\n",
       "      <td>1.0</td>\n",
       "      <td>17.0</td>\n",
       "      <td>2006-12-16 17:24:00</td>\n",
       "    </tr>\n",
       "    <tr>\n",
       "      <th>1</th>\n",
       "      <td>16/12/2006</td>\n",
       "      <td>17:25:00</td>\n",
       "      <td>5.360</td>\n",
       "      <td>0.436</td>\n",
       "      <td>233.63</td>\n",
       "      <td>23.0</td>\n",
       "      <td>0.0</td>\n",
       "      <td>1.0</td>\n",
       "      <td>16.0</td>\n",
       "      <td>2006-12-16 17:25:00</td>\n",
       "    </tr>\n",
       "    <tr>\n",
       "      <th>2</th>\n",
       "      <td>16/12/2006</td>\n",
       "      <td>17:26:00</td>\n",
       "      <td>5.374</td>\n",
       "      <td>0.498</td>\n",
       "      <td>233.29</td>\n",
       "      <td>23.0</td>\n",
       "      <td>0.0</td>\n",
       "      <td>2.0</td>\n",
       "      <td>17.0</td>\n",
       "      <td>2006-12-16 17:26:00</td>\n",
       "    </tr>\n",
       "    <tr>\n",
       "      <th>3</th>\n",
       "      <td>16/12/2006</td>\n",
       "      <td>17:27:00</td>\n",
       "      <td>5.388</td>\n",
       "      <td>0.502</td>\n",
       "      <td>233.74</td>\n",
       "      <td>23.0</td>\n",
       "      <td>0.0</td>\n",
       "      <td>1.0</td>\n",
       "      <td>17.0</td>\n",
       "      <td>2006-12-16 17:27:00</td>\n",
       "    </tr>\n",
       "    <tr>\n",
       "      <th>4</th>\n",
       "      <td>16/12/2006</td>\n",
       "      <td>17:28:00</td>\n",
       "      <td>3.666</td>\n",
       "      <td>0.528</td>\n",
       "      <td>235.68</td>\n",
       "      <td>15.8</td>\n",
       "      <td>0.0</td>\n",
       "      <td>1.0</td>\n",
       "      <td>17.0</td>\n",
       "      <td>2006-12-16 17:28:00</td>\n",
       "    </tr>\n",
       "    <tr>\n",
       "      <th>...</th>\n",
       "      <td>...</td>\n",
       "      <td>...</td>\n",
       "      <td>...</td>\n",
       "      <td>...</td>\n",
       "      <td>...</td>\n",
       "      <td>...</td>\n",
       "      <td>...</td>\n",
       "      <td>...</td>\n",
       "      <td>...</td>\n",
       "      <td>...</td>\n",
       "    </tr>\n",
       "    <tr>\n",
       "      <th>2075254</th>\n",
       "      <td>26/11/2010</td>\n",
       "      <td>20:58:00</td>\n",
       "      <td>0.946</td>\n",
       "      <td>0.000</td>\n",
       "      <td>240.43</td>\n",
       "      <td>4.0</td>\n",
       "      <td>0.0</td>\n",
       "      <td>0.0</td>\n",
       "      <td>0.0</td>\n",
       "      <td>2010-11-26 20:58:00</td>\n",
       "    </tr>\n",
       "    <tr>\n",
       "      <th>2075255</th>\n",
       "      <td>26/11/2010</td>\n",
       "      <td>20:59:00</td>\n",
       "      <td>0.944</td>\n",
       "      <td>0.000</td>\n",
       "      <td>240.00</td>\n",
       "      <td>4.0</td>\n",
       "      <td>0.0</td>\n",
       "      <td>0.0</td>\n",
       "      <td>0.0</td>\n",
       "      <td>2010-11-26 20:59:00</td>\n",
       "    </tr>\n",
       "    <tr>\n",
       "      <th>2075256</th>\n",
       "      <td>26/11/2010</td>\n",
       "      <td>21:00:00</td>\n",
       "      <td>0.938</td>\n",
       "      <td>0.000</td>\n",
       "      <td>239.82</td>\n",
       "      <td>3.8</td>\n",
       "      <td>0.0</td>\n",
       "      <td>0.0</td>\n",
       "      <td>0.0</td>\n",
       "      <td>2010-11-26 21:00:00</td>\n",
       "    </tr>\n",
       "    <tr>\n",
       "      <th>2075257</th>\n",
       "      <td>26/11/2010</td>\n",
       "      <td>21:01:00</td>\n",
       "      <td>0.934</td>\n",
       "      <td>0.000</td>\n",
       "      <td>239.70</td>\n",
       "      <td>3.8</td>\n",
       "      <td>0.0</td>\n",
       "      <td>0.0</td>\n",
       "      <td>0.0</td>\n",
       "      <td>2010-11-26 21:01:00</td>\n",
       "    </tr>\n",
       "    <tr>\n",
       "      <th>2075258</th>\n",
       "      <td>26/11/2010</td>\n",
       "      <td>21:02:00</td>\n",
       "      <td>0.932</td>\n",
       "      <td>0.000</td>\n",
       "      <td>239.55</td>\n",
       "      <td>3.8</td>\n",
       "      <td>0.0</td>\n",
       "      <td>0.0</td>\n",
       "      <td>0.0</td>\n",
       "      <td>2010-11-26 21:02:00</td>\n",
       "    </tr>\n",
       "  </tbody>\n",
       "</table>\n",
       "<p>2049280 rows × 10 columns</p>\n",
       "</div>"
      ],
      "text/plain": [
       "               Date      Time  Global_active_power  Global_reactive_power  \\\n",
       "0        16/12/2006  17:24:00                4.216                  0.418   \n",
       "1        16/12/2006  17:25:00                5.360                  0.436   \n",
       "2        16/12/2006  17:26:00                5.374                  0.498   \n",
       "3        16/12/2006  17:27:00                5.388                  0.502   \n",
       "4        16/12/2006  17:28:00                3.666                  0.528   \n",
       "...             ...       ...                  ...                    ...   \n",
       "2075254  26/11/2010  20:58:00                0.946                  0.000   \n",
       "2075255  26/11/2010  20:59:00                0.944                  0.000   \n",
       "2075256  26/11/2010  21:00:00                0.938                  0.000   \n",
       "2075257  26/11/2010  21:01:00                0.934                  0.000   \n",
       "2075258  26/11/2010  21:02:00                0.932                  0.000   \n",
       "\n",
       "         Voltage  Global_intensity  Sub_metering_1  Sub_metering_2  \\\n",
       "0         234.84              18.4             0.0             1.0   \n",
       "1         233.63              23.0             0.0             1.0   \n",
       "2         233.29              23.0             0.0             2.0   \n",
       "3         233.74              23.0             0.0             1.0   \n",
       "4         235.68              15.8             0.0             1.0   \n",
       "...          ...               ...             ...             ...   \n",
       "2075254   240.43               4.0             0.0             0.0   \n",
       "2075255   240.00               4.0             0.0             0.0   \n",
       "2075256   239.82               3.8             0.0             0.0   \n",
       "2075257   239.70               3.8             0.0             0.0   \n",
       "2075258   239.55               3.8             0.0             0.0   \n",
       "\n",
       "         Sub_metering_3            DateTime  \n",
       "0                  17.0 2006-12-16 17:24:00  \n",
       "1                  16.0 2006-12-16 17:25:00  \n",
       "2                  17.0 2006-12-16 17:26:00  \n",
       "3                  17.0 2006-12-16 17:27:00  \n",
       "4                  17.0 2006-12-16 17:28:00  \n",
       "...                 ...                 ...  \n",
       "2075254             0.0 2010-11-26 20:58:00  \n",
       "2075255             0.0 2010-11-26 20:59:00  \n",
       "2075256             0.0 2010-11-26 21:00:00  \n",
       "2075257             0.0 2010-11-26 21:01:00  \n",
       "2075258             0.0 2010-11-26 21:02:00  \n",
       "\n",
       "[2049280 rows x 10 columns]"
      ]
     },
     "execution_count": 83,
     "metadata": {},
     "output_type": "execute_result"
    }
   ],
   "source": [
    "data"
   ]
  },
  {
   "cell_type": "code",
   "execution_count": 84,
   "metadata": {},
   "outputs": [],
   "source": [
    "# 4. Eliminar los atributos 'Date' y 'Time'.\n",
    "data = data.drop(['Date'], axis=1)\n",
    "data = data.drop(['Time'], axis=1)"
   ]
  },
  {
   "cell_type": "code",
   "execution_count": 85,
   "metadata": {},
   "outputs": [],
   "source": [
    "# 5. Extraer la información numérica de cada fecha y hora\n",
    "data['Year'] = data['DateTime'].dt.year\n",
    "data['Month'] = data['DateTime'].dt.month\n",
    "data['Week'] = data['DateTime'].dt.week\n",
    "data['DayofWeek'] = data['DateTime'].dt.dayofweek\n",
    "data['Hour'] = data['DateTime'].dt.hour"
   ]
  },
  {
   "cell_type": "code",
   "execution_count": 86,
   "metadata": {},
   "outputs": [],
   "source": [
    "# 6. Eliminar columna 'DateTime'.\n",
    "data = data.drop(['DateTime'], axis=1)"
   ]
  },
  {
   "cell_type": "code",
   "execution_count": 87,
   "metadata": {},
   "outputs": [],
   "source": [
    "data = data.reset_index(drop=True)"
   ]
  },
  {
   "cell_type": "code",
   "execution_count": 88,
   "metadata": {},
   "outputs": [
    {
     "data": {
      "text/html": [
       "<div>\n",
       "<style scoped>\n",
       "    .dataframe tbody tr th:only-of-type {\n",
       "        vertical-align: middle;\n",
       "    }\n",
       "\n",
       "    .dataframe tbody tr th {\n",
       "        vertical-align: top;\n",
       "    }\n",
       "\n",
       "    .dataframe thead th {\n",
       "        text-align: right;\n",
       "    }\n",
       "</style>\n",
       "<table border=\"1\" class=\"dataframe\">\n",
       "  <thead>\n",
       "    <tr style=\"text-align: right;\">\n",
       "      <th></th>\n",
       "      <th>Global_active_power</th>\n",
       "      <th>Global_reactive_power</th>\n",
       "      <th>Voltage</th>\n",
       "      <th>Global_intensity</th>\n",
       "      <th>Sub_metering_1</th>\n",
       "      <th>Sub_metering_2</th>\n",
       "      <th>Sub_metering_3</th>\n",
       "      <th>Year</th>\n",
       "      <th>Month</th>\n",
       "      <th>Week</th>\n",
       "      <th>DayofWeek</th>\n",
       "      <th>Hour</th>\n",
       "    </tr>\n",
       "  </thead>\n",
       "  <tbody>\n",
       "    <tr>\n",
       "      <th>0</th>\n",
       "      <td>4.216</td>\n",
       "      <td>0.418</td>\n",
       "      <td>234.84</td>\n",
       "      <td>18.4</td>\n",
       "      <td>0.0</td>\n",
       "      <td>1.0</td>\n",
       "      <td>17.0</td>\n",
       "      <td>2006</td>\n",
       "      <td>12</td>\n",
       "      <td>50</td>\n",
       "      <td>5</td>\n",
       "      <td>17</td>\n",
       "    </tr>\n",
       "    <tr>\n",
       "      <th>1</th>\n",
       "      <td>5.360</td>\n",
       "      <td>0.436</td>\n",
       "      <td>233.63</td>\n",
       "      <td>23.0</td>\n",
       "      <td>0.0</td>\n",
       "      <td>1.0</td>\n",
       "      <td>16.0</td>\n",
       "      <td>2006</td>\n",
       "      <td>12</td>\n",
       "      <td>50</td>\n",
       "      <td>5</td>\n",
       "      <td>17</td>\n",
       "    </tr>\n",
       "    <tr>\n",
       "      <th>2</th>\n",
       "      <td>5.374</td>\n",
       "      <td>0.498</td>\n",
       "      <td>233.29</td>\n",
       "      <td>23.0</td>\n",
       "      <td>0.0</td>\n",
       "      <td>2.0</td>\n",
       "      <td>17.0</td>\n",
       "      <td>2006</td>\n",
       "      <td>12</td>\n",
       "      <td>50</td>\n",
       "      <td>5</td>\n",
       "      <td>17</td>\n",
       "    </tr>\n",
       "    <tr>\n",
       "      <th>3</th>\n",
       "      <td>5.388</td>\n",
       "      <td>0.502</td>\n",
       "      <td>233.74</td>\n",
       "      <td>23.0</td>\n",
       "      <td>0.0</td>\n",
       "      <td>1.0</td>\n",
       "      <td>17.0</td>\n",
       "      <td>2006</td>\n",
       "      <td>12</td>\n",
       "      <td>50</td>\n",
       "      <td>5</td>\n",
       "      <td>17</td>\n",
       "    </tr>\n",
       "    <tr>\n",
       "      <th>4</th>\n",
       "      <td>3.666</td>\n",
       "      <td>0.528</td>\n",
       "      <td>235.68</td>\n",
       "      <td>15.8</td>\n",
       "      <td>0.0</td>\n",
       "      <td>1.0</td>\n",
       "      <td>17.0</td>\n",
       "      <td>2006</td>\n",
       "      <td>12</td>\n",
       "      <td>50</td>\n",
       "      <td>5</td>\n",
       "      <td>17</td>\n",
       "    </tr>\n",
       "    <tr>\n",
       "      <th>...</th>\n",
       "      <td>...</td>\n",
       "      <td>...</td>\n",
       "      <td>...</td>\n",
       "      <td>...</td>\n",
       "      <td>...</td>\n",
       "      <td>...</td>\n",
       "      <td>...</td>\n",
       "      <td>...</td>\n",
       "      <td>...</td>\n",
       "      <td>...</td>\n",
       "      <td>...</td>\n",
       "      <td>...</td>\n",
       "    </tr>\n",
       "    <tr>\n",
       "      <th>2049275</th>\n",
       "      <td>0.946</td>\n",
       "      <td>0.000</td>\n",
       "      <td>240.43</td>\n",
       "      <td>4.0</td>\n",
       "      <td>0.0</td>\n",
       "      <td>0.0</td>\n",
       "      <td>0.0</td>\n",
       "      <td>2010</td>\n",
       "      <td>11</td>\n",
       "      <td>47</td>\n",
       "      <td>4</td>\n",
       "      <td>20</td>\n",
       "    </tr>\n",
       "    <tr>\n",
       "      <th>2049276</th>\n",
       "      <td>0.944</td>\n",
       "      <td>0.000</td>\n",
       "      <td>240.00</td>\n",
       "      <td>4.0</td>\n",
       "      <td>0.0</td>\n",
       "      <td>0.0</td>\n",
       "      <td>0.0</td>\n",
       "      <td>2010</td>\n",
       "      <td>11</td>\n",
       "      <td>47</td>\n",
       "      <td>4</td>\n",
       "      <td>20</td>\n",
       "    </tr>\n",
       "    <tr>\n",
       "      <th>2049277</th>\n",
       "      <td>0.938</td>\n",
       "      <td>0.000</td>\n",
       "      <td>239.82</td>\n",
       "      <td>3.8</td>\n",
       "      <td>0.0</td>\n",
       "      <td>0.0</td>\n",
       "      <td>0.0</td>\n",
       "      <td>2010</td>\n",
       "      <td>11</td>\n",
       "      <td>47</td>\n",
       "      <td>4</td>\n",
       "      <td>21</td>\n",
       "    </tr>\n",
       "    <tr>\n",
       "      <th>2049278</th>\n",
       "      <td>0.934</td>\n",
       "      <td>0.000</td>\n",
       "      <td>239.70</td>\n",
       "      <td>3.8</td>\n",
       "      <td>0.0</td>\n",
       "      <td>0.0</td>\n",
       "      <td>0.0</td>\n",
       "      <td>2010</td>\n",
       "      <td>11</td>\n",
       "      <td>47</td>\n",
       "      <td>4</td>\n",
       "      <td>21</td>\n",
       "    </tr>\n",
       "    <tr>\n",
       "      <th>2049279</th>\n",
       "      <td>0.932</td>\n",
       "      <td>0.000</td>\n",
       "      <td>239.55</td>\n",
       "      <td>3.8</td>\n",
       "      <td>0.0</td>\n",
       "      <td>0.0</td>\n",
       "      <td>0.0</td>\n",
       "      <td>2010</td>\n",
       "      <td>11</td>\n",
       "      <td>47</td>\n",
       "      <td>4</td>\n",
       "      <td>21</td>\n",
       "    </tr>\n",
       "  </tbody>\n",
       "</table>\n",
       "<p>2049280 rows × 12 columns</p>\n",
       "</div>"
      ],
      "text/plain": [
       "         Global_active_power  Global_reactive_power  Voltage  \\\n",
       "0                      4.216                  0.418   234.84   \n",
       "1                      5.360                  0.436   233.63   \n",
       "2                      5.374                  0.498   233.29   \n",
       "3                      5.388                  0.502   233.74   \n",
       "4                      3.666                  0.528   235.68   \n",
       "...                      ...                    ...      ...   \n",
       "2049275                0.946                  0.000   240.43   \n",
       "2049276                0.944                  0.000   240.00   \n",
       "2049277                0.938                  0.000   239.82   \n",
       "2049278                0.934                  0.000   239.70   \n",
       "2049279                0.932                  0.000   239.55   \n",
       "\n",
       "         Global_intensity  Sub_metering_1  Sub_metering_2  Sub_metering_3  \\\n",
       "0                    18.4             0.0             1.0            17.0   \n",
       "1                    23.0             0.0             1.0            16.0   \n",
       "2                    23.0             0.0             2.0            17.0   \n",
       "3                    23.0             0.0             1.0            17.0   \n",
       "4                    15.8             0.0             1.0            17.0   \n",
       "...                   ...             ...             ...             ...   \n",
       "2049275               4.0             0.0             0.0             0.0   \n",
       "2049276               4.0             0.0             0.0             0.0   \n",
       "2049277               3.8             0.0             0.0             0.0   \n",
       "2049278               3.8             0.0             0.0             0.0   \n",
       "2049279               3.8             0.0             0.0             0.0   \n",
       "\n",
       "         Year  Month  Week  DayofWeek  Hour  \n",
       "0        2006     12    50          5    17  \n",
       "1        2006     12    50          5    17  \n",
       "2        2006     12    50          5    17  \n",
       "3        2006     12    50          5    17  \n",
       "4        2006     12    50          5    17  \n",
       "...       ...    ...   ...        ...   ...  \n",
       "2049275  2010     11    47          4    20  \n",
       "2049276  2010     11    47          4    20  \n",
       "2049277  2010     11    47          4    21  \n",
       "2049278  2010     11    47          4    21  \n",
       "2049279  2010     11    47          4    21  \n",
       "\n",
       "[2049280 rows x 12 columns]"
      ]
     },
     "execution_count": 88,
     "metadata": {},
     "output_type": "execute_result"
    }
   ],
   "source": [
    "data"
   ]
  },
  {
   "cell_type": "code",
   "execution_count": 120,
   "metadata": {},
   "outputs": [
    {
     "data": {
      "text/plain": [
       "(2049, 12)"
      ]
     },
     "execution_count": 120,
     "metadata": {},
     "output_type": "execute_result"
    }
   ],
   "source": [
    "# Se reduce el tamaño del conjunto de datos. De lo contrario las metricas de desempeño toman muchas horas-\n",
    "# -cada una en poder ser calculadas. Sin mencionar que con más de 20'000 registros, el método jerarquico\n",
    "# se desborda en reserva de memoria en la maquina en la que estoy trabajando (trata de alocar 60+GB de RAM)\n",
    "# y en el DBSCAN, se genera un sólo conglomerado gigante de los datos (también con 20'000 registros o más).\n",
    "train, test = train_test_split(data, train_size=0.001, random_state=42)\n",
    "train.shape"
   ]
  },
  {
   "cell_type": "markdown",
   "metadata": {},
   "source": [
    "# 1. Clustering por K-means"
   ]
  },
  {
   "cell_type": "code",
   "execution_count": 121,
   "metadata": {},
   "outputs": [
    {
     "data": {
      "image/png": "[encoded data removed]",
      "text/plain": [
       "<Figure size 432x288 with 1 Axes>"
      ]
     },
     "metadata": {
      "needs_background": "light"
     },
     "output_type": "display_data"
    }
   ],
   "source": [
    "from sklearn.cluster import KMeans\n",
    "\n",
    "# Se realizan 15 conglomerados y se grafica el error cuadrático\n",
    "sse = {}\n",
    "for k in range(1, 15):\n",
    "    kmeans = KMeans(n_clusters=k, random_state=42, n_jobs=-1).fit(train)\n",
    "    sse[k] = kmeans.inertia_ # Inertia: Sum of distances of samples to their closest cluster center\n",
    "    \n",
    "plt.figure()\n",
    "plt.plot(list(sse.keys()), list(sse.values()))\n",
    "plt.xlabel(\"Number of cluster\")\n",
    "plt.ylabel(\"SSE\")\n",
    "plt.show()"
   ]
  },
  {
   "cell_type": "code",
   "execution_count": 122,
   "metadata": {},
   "outputs": [
    {
     "data": {
      "text/html": [
       "<div>\n",
       "<style scoped>\n",
       "    .dataframe tbody tr th:only-of-type {\n",
       "        vertical-align: middle;\n",
       "    }\n",
       "\n",
       "    .dataframe tbody tr th {\n",
       "        vertical-align: top;\n",
       "    }\n",
       "\n",
       "    .dataframe thead th {\n",
       "        text-align: right;\n",
       "    }\n",
       "</style>\n",
       "<table border=\"1\" class=\"dataframe\">\n",
       "  <thead>\n",
       "    <tr style=\"text-align: right;\">\n",
       "      <th></th>\n",
       "      <th>Global_active_power</th>\n",
       "      <th>Global_reactive_power</th>\n",
       "      <th>Voltage</th>\n",
       "      <th>Global_intensity</th>\n",
       "      <th>Sub_metering_1</th>\n",
       "      <th>Sub_metering_2</th>\n",
       "      <th>Sub_metering_3</th>\n",
       "      <th>Year</th>\n",
       "      <th>Month</th>\n",
       "      <th>Week</th>\n",
       "      <th>DayofWeek</th>\n",
       "      <th>Hour</th>\n",
       "    </tr>\n",
       "  </thead>\n",
       "  <tbody>\n",
       "    <tr>\n",
       "      <th>0</th>\n",
       "      <td>1.798329</td>\n",
       "      <td>0.115944</td>\n",
       "      <td>239.791616</td>\n",
       "      <td>7.502507</td>\n",
       "      <td>0.161560</td>\n",
       "      <td>0.849582</td>\n",
       "      <td>17.969359</td>\n",
       "      <td>2008.484680</td>\n",
       "      <td>3.353760</td>\n",
       "      <td>12.518106</td>\n",
       "      <td>2.799443</td>\n",
       "      <td>12.571031</td>\n",
       "    </tr>\n",
       "    <tr>\n",
       "      <th>1</th>\n",
       "      <td>0.575707</td>\n",
       "      <td>0.110026</td>\n",
       "      <td>242.206992</td>\n",
       "      <td>2.475578</td>\n",
       "      <td>0.028278</td>\n",
       "      <td>0.455013</td>\n",
       "      <td>0.344473</td>\n",
       "      <td>2008.334190</td>\n",
       "      <td>10.321337</td>\n",
       "      <td>43.740360</td>\n",
       "      <td>3.151671</td>\n",
       "      <td>9.352185</td>\n",
       "    </tr>\n",
       "    <tr>\n",
       "      <th>2</th>\n",
       "      <td>0.409464</td>\n",
       "      <td>0.136912</td>\n",
       "      <td>240.492434</td>\n",
       "      <td>1.835174</td>\n",
       "      <td>0.055215</td>\n",
       "      <td>0.519427</td>\n",
       "      <td>0.883436</td>\n",
       "      <td>2008.492843</td>\n",
       "      <td>6.742331</td>\n",
       "      <td>27.588957</td>\n",
       "      <td>2.981595</td>\n",
       "      <td>12.494888</td>\n",
       "    </tr>\n",
       "    <tr>\n",
       "      <th>3</th>\n",
       "      <td>4.153581</td>\n",
       "      <td>0.227839</td>\n",
       "      <td>237.546613</td>\n",
       "      <td>17.551613</td>\n",
       "      <td>37.129032</td>\n",
       "      <td>3.919355</td>\n",
       "      <td>10.677419</td>\n",
       "      <td>2008.274194</td>\n",
       "      <td>6.500000</td>\n",
       "      <td>26.483871</td>\n",
       "      <td>3.241935</td>\n",
       "      <td>15.822581</td>\n",
       "    </tr>\n",
       "    <tr>\n",
       "      <th>4</th>\n",
       "      <td>3.846632</td>\n",
       "      <td>0.199368</td>\n",
       "      <td>237.482632</td>\n",
       "      <td>16.384211</td>\n",
       "      <td>0.315789</td>\n",
       "      <td>35.842105</td>\n",
       "      <td>11.921053</td>\n",
       "      <td>2007.921053</td>\n",
       "      <td>7.078947</td>\n",
       "      <td>28.921053</td>\n",
       "      <td>3.763158</td>\n",
       "      <td>16.289474</td>\n",
       "    </tr>\n",
       "    <tr>\n",
       "      <th>5</th>\n",
       "      <td>1.875188</td>\n",
       "      <td>0.134973</td>\n",
       "      <td>239.718046</td>\n",
       "      <td>7.835249</td>\n",
       "      <td>0.337165</td>\n",
       "      <td>0.704981</td>\n",
       "      <td>18.065134</td>\n",
       "      <td>2008.287356</td>\n",
       "      <td>10.084291</td>\n",
       "      <td>42.310345</td>\n",
       "      <td>3.114943</td>\n",
       "      <td>11.946360</td>\n",
       "    </tr>\n",
       "    <tr>\n",
       "      <th>6</th>\n",
       "      <td>0.592004</td>\n",
       "      <td>0.103823</td>\n",
       "      <td>242.585942</td>\n",
       "      <td>2.529933</td>\n",
       "      <td>0.033259</td>\n",
       "      <td>0.658537</td>\n",
       "      <td>0.270510</td>\n",
       "      <td>2008.416851</td>\n",
       "      <td>2.771619</td>\n",
       "      <td>9.917960</td>\n",
       "      <td>3.050998</td>\n",
       "      <td>9.447894</td>\n",
       "    </tr>\n",
       "  </tbody>\n",
       "</table>\n",
       "</div>"
      ],
      "text/plain": [
       "   Global_active_power  Global_reactive_power     Voltage  Global_intensity  \\\n",
       "0             1.798329               0.115944  239.791616          7.502507   \n",
       "1             0.575707               0.110026  242.206992          2.475578   \n",
       "2             0.409464               0.136912  240.492434          1.835174   \n",
       "3             4.153581               0.227839  237.546613         17.551613   \n",
       "4             3.846632               0.199368  237.482632         16.384211   \n",
       "5             1.875188               0.134973  239.718046          7.835249   \n",
       "6             0.592004               0.103823  242.585942          2.529933   \n",
       "\n",
       "   Sub_metering_1  Sub_metering_2  Sub_metering_3         Year      Month  \\\n",
       "0        0.161560        0.849582       17.969359  2008.484680   3.353760   \n",
       "1        0.028278        0.455013        0.344473  2008.334190  10.321337   \n",
       "2        0.055215        0.519427        0.883436  2008.492843   6.742331   \n",
       "3       37.129032        3.919355       10.677419  2008.274194   6.500000   \n",
       "4        0.315789       35.842105       11.921053  2007.921053   7.078947   \n",
       "5        0.337165        0.704981       18.065134  2008.287356  10.084291   \n",
       "6        0.033259        0.658537        0.270510  2008.416851   2.771619   \n",
       "\n",
       "        Week  DayofWeek       Hour  \n",
       "0  12.518106   2.799443  12.571031  \n",
       "1  43.740360   3.151671   9.352185  \n",
       "2  27.588957   2.981595  12.494888  \n",
       "3  26.483871   3.241935  15.822581  \n",
       "4  28.921053   3.763158  16.289474  \n",
       "5  42.310345   3.114943  11.946360  \n",
       "6   9.917960   3.050998   9.447894  "
      ]
     },
     "execution_count": 122,
     "metadata": {},
     "output_type": "execute_result"
    }
   ],
   "source": [
    "# Se escoge K = 7 para el número de conglomerados\n",
    "# Se muestran las coordenadas de cada centroide de los 7 grupos\n",
    "kmeans = KMeans(n_clusters=7, random_state=42, n_jobs=-1).fit(train)\n",
    "cc = pd.DataFrame(kmeans.cluster_centers_)\n",
    "cc.columns = ['Global_active_power','Global_reactive_power','Voltage','Global_intensity',\n",
    "                'Sub_metering_1','Sub_metering_2','Sub_metering_3', 'Year', 'Month', \n",
    "              'Week', 'DayofWeek', 'Hour']\n",
    "cc"
   ]
  },
  {
   "cell_type": "markdown",
   "metadata": {},
   "source": [
    "# 2. Clustering por Método jerárquico"
   ]
  },
  {
   "cell_type": "code",
   "execution_count": 123,
   "metadata": {},
   "outputs": [],
   "source": [
    "from sklearn.cluster import AgglomerativeClustering\n",
    "agglo = AgglomerativeClustering(n_clusters=7, linkage='average').fit(train)"
   ]
  },
  {
   "cell_type": "markdown",
   "metadata": {},
   "source": [
    "# 3. Clustering por DBSCAN"
   ]
  },
  {
   "cell_type": "code",
   "execution_count": 124,
   "metadata": {},
   "outputs": [],
   "source": [
    "from sklearn.neighbors import NearestNeighbors\n",
    "from sklearn.cluster import DBSCAN\n",
    "\n",
    "nbrs = NearestNeighbors(n_neighbors=7, algorithm='ball_tree').fit(train)"
   ]
  },
  {
   "cell_type": "code",
   "execution_count": 125,
   "metadata": {},
   "outputs": [
    {
     "data": {
      "image/png": "[encoded data removed]",
      "text/plain": [
       "<Figure size 432x288 with 1 Axes>"
      ]
     },
     "metadata": {
      "needs_background": "light"
     },
     "output_type": "display_data"
    }
   ],
   "source": [
    "# Se realiza el gráfico para determinar los parametros del radio de la circunferencia (eps) y el umbral\n",
    "distances, indices = nbrs.kneighbors(train)\n",
    "distances = [np.linalg.norm(e) for e in distances]\n",
    "distances.sort()\n",
    "\n",
    "plt.figure()\n",
    "plt.plot(distances, 'b.', markersize=0.3)\n",
    "plt.xlabel(\"Datos\")\n",
    "plt.ylabel(\"Umbral\")\n",
    "plt.show()"
   ]
  },
  {
   "cell_type": "code",
   "execution_count": 126,
   "metadata": {},
   "outputs": [
    {
     "data": {
      "text/plain": [
       "10.851322500045786"
      ]
     },
     "execution_count": 126,
     "metadata": {},
     "output_type": "execute_result"
    }
   ],
   "source": [
    "distances[1500]"
   ]
  },
  {
   "cell_type": "code",
   "execution_count": 128,
   "metadata": {},
   "outputs": [],
   "source": [
    "# Se escoge entonces eps (radio de la circunferencia) como distances[1500] y min_samples (umbral) como 7\n",
    "dbscan = DBSCAN(eps=distances[1500], min_samples=7).fit(train)"
   ]
  },
  {
   "cell_type": "markdown",
   "metadata": {},
   "source": [
    "## Comparación y análisis de las técnicas"
   ]
  },
  {
   "cell_type": "code",
   "execution_count": 129,
   "metadata": {},
   "outputs": [],
   "source": [
    "aux_train = train.copy()"
   ]
  },
  {
   "cell_type": "code",
   "execution_count": 132,
   "metadata": {},
   "outputs": [],
   "source": [
    "# Calcular la distancia entre dos vectores de coordenadas o registros\n",
    "def proximidad(x, y):\n",
    "    return np.linalg.norm(x-y)\n",
    "\n",
    "# Calcular la cohesion entre todos los elementos de un conglomerado\n",
    "def cohesion(Ci_list, dt):\n",
    "    ans = 0\n",
    "    for i in Ci_list:\n",
    "        x = dt.iloc[i].to_numpy()\n",
    "        for j in Ci_list:\n",
    "            ans += proximidad(x, dt.iloc[j].to_numpy())\n",
    "    return ans\n",
    "\n",
    "# Calcular la separacion entre dos conglomerados\n",
    "def separacion(Ci_list, Cj_list, dt):\n",
    "    ans = 0\n",
    "    for i in Ci_list:\n",
    "        x = dt.iloc[i].to_numpy()\n",
    "        for j in Cj_list:\n",
    "            ans += proximidad(x, dt.iloc[j].to_numpy())\n",
    "    return ans"
   ]
  },
  {
   "cell_type": "code",
   "execution_count": 133,
   "metadata": {},
   "outputs": [
    {
     "name": "stdout",
     "output_type": "stream",
     "text": [
      "Cohesion: 10873021.243005335\n",
      "Separacion: 105970991.90599936\n"
     ]
    }
   ],
   "source": [
    "# Calculamos cohesion y separacion para K-means\n",
    "aux_train['labels'] = kmeans.labels_\n",
    "aux = aux_train.groupby('labels')\n",
    "ans1, ans2 = 0, 0\n",
    "\n",
    "for k in range(7):\n",
    "    Ci_list = aux.groups[k].to_numpy()\n",
    "    ans1 += cohesion(Ci_list, data)\n",
    "print(\"Cohesion:\", ans1)\n",
    "kmeans_coh = ans1\n",
    "\n",
    "for k in range(7):\n",
    "    Ci_list = aux.groups[k].to_numpy()\n",
    "    for l in range(7):\n",
    "        if k != l:\n",
    "            Cj_list = aux.groups[l].to_numpy()\n",
    "            ans2 += separacion(Ci_list, Cj_list, data)\n",
    "print(\"Separacion:\", ans2)\n",
    "kmeans_sep = ans2"
   ]
  },
  {
   "cell_type": "code",
   "execution_count": 134,
   "metadata": {},
   "outputs": [
    {
     "name": "stdout",
     "output_type": "stream",
     "text": [
      "Cohesion: 94411591.70587394\n",
      "Separacion: 22432421.443128563\n"
     ]
    }
   ],
   "source": [
    "# Calculamos cohesion y separacion para Método jerárquico\n",
    "aux_train['labels'] = agglo.labels_\n",
    "aux = aux_train.groupby('labels')\n",
    "ans1, ans2 = 0, 0\n",
    "\n",
    "for k in range(7):\n",
    "    Ci_list = aux.groups[k].to_numpy()\n",
    "    ans1 += cohesion(Ci_list, data)\n",
    "print(\"Cohesion:\", ans1)\n",
    "jerarq_coh = ans1\n",
    "\n",
    "for k in range(7):\n",
    "    Ci_list = aux.groups[k].to_numpy()\n",
    "    for l in range(7):\n",
    "        if k!= l:\n",
    "            Cj_list = aux.groups[l].to_numpy()\n",
    "            ans2 += separacion(Ci_list, Cj_list, data)\n",
    "print(\"Separacion:\", ans2)\n",
    "jerarq_sep = ans2"
   ]
  },
  {
   "cell_type": "code",
   "execution_count": null,
   "metadata": {},
   "outputs": [],
   "source": [
    "# Cantidad de conglomerados generada por DBSCAN (6, con indices 0..5)\n",
    "max(dbscan.labels_)"
   ]
  },
  {
   "cell_type": "code",
   "execution_count": 141,
   "metadata": {},
   "outputs": [
    {
     "name": "stdout",
     "output_type": "stream",
     "text": [
      "Cohesion: 92718755.41716066\n",
      "Separacion: 7904087.41821493\n"
     ]
    }
   ],
   "source": [
    "# Calculamos cohesion y separacion para DBSCAN\n",
    "aux_train['labels'] = dbscan.labels_\n",
    "aux = aux_train.groupby('labels')\n",
    "ans1, ans2 = 0, 0\n",
    "\n",
    "for k in range(6):\n",
    "    Ci_list = aux.groups[k].to_numpy()\n",
    "    ans1 += cohesion(Ci_list, data)\n",
    "print(\"Cohesion:\", ans1)\n",
    "dbscan_coh = ans1\n",
    "\n",
    "for k in range(6):\n",
    "    Ci_list = aux.groups[k].to_numpy()\n",
    "    for l in range(6):\n",
    "        if k!= l:\n",
    "            Cj_list = aux.groups[l].to_numpy()\n",
    "            ans2 += separacion(Ci_list, Cj_list, data)\n",
    "print(\"Separacion:\", ans2)\n",
    "dbscan_sep = ans2"
   ]
  },
  {
   "cell_type": "code",
   "execution_count": 146,
   "metadata": {},
   "outputs": [
    {
     "data": {
      "text/plain": [
       "10873021.243005335"
      ]
     },
     "execution_count": 146,
     "metadata": {},
     "output_type": "execute_result"
    }
   ],
   "source": [
    "# Qué método tuvo la mejor cohesión en cada conglomerado?\n",
    "min(kmeans_coh, jerarq_coh, dbscan_coh)"
   ]
  },
  {
   "cell_type": "code",
   "execution_count": 147,
   "metadata": {},
   "outputs": [
    {
     "data": {
      "text/plain": [
       "105970991.90599936"
      ]
     },
     "execution_count": 147,
     "metadata": {},
     "output_type": "execute_result"
    }
   ],
   "source": [
    "# Qué método tuvo el mayor separación entre conglomerados?\n",
    "max(kmeans_sep, jerarq_sep, dbscan_sep)"
   ]
  },
  {
   "cell_type": "markdown",
   "metadata": {},
   "source": [
    "El modelo de K-means, por ser más eficiente computacionalmente, pudo haberse entrenado con el conjunto de datos completo (a diferencia del jerarquico que se desbordaba por memoria, y de que el DBSCAN sólo creara un sólo conglomerado). Pero, el hacer esto no hace justa la comparacion entre los tres métodos.\n",
    "\n",
    "El método que tuvo mejor **cohesión** fue K-means, y el que tuvo mejor **separación**, también, fue el método de K-means. Obviamente se destaca el hecho de que no se está trabajando con el conjunto entero de datos, las métricas usadas no son del todo precisas y de que posiblemente otras métricas de desempeño pudieron ser usadas para comparar los tres métodos de tal forma que se pudiera apreciar mejor las fortalezas y debilidades de cáda uno.\n",
    "\n",
    "Sin embargo, bajo las condiciones de poder cómputo en las que se desarrolló el taller y las métricas usadas, el método de conglomerados que mejor desempeño tuvo fue el de **K-means**, ya que este pudo formar grupos cuyos puntos estuvieran más cerca los unos a los otros (lo cual sugiere que pudo identificar los patrones de cada grupo en el conjunto de datos de forma correcta), y a su vez, estos grupos se encontraban más alejados o aislados entre sí que en cualquiera de los otros métodos."
   ]
  },
  {
   "cell_type": "code",
   "execution_count": null,
   "metadata": {},
   "outputs": [],
   "source": []
  }
 ],
 "metadata": {
  "kernelspec": {
   "display_name": "Python 3",
   "language": "python",
   "name": "python3"
  },
  "language_info": {
   "codemirror_mode": {
    "name": "ipython",
    "version": 3
   },
   "file_extension": ".py",
   "mimetype": "text/x-python",
   "name": "python",
   "nbconvert_exporter": "python",
   "pygments_lexer": "ipython3",
   "version": "3.8.5"
  }
 },
 "nbformat": 4,
 "nbformat_minor": 4
}
